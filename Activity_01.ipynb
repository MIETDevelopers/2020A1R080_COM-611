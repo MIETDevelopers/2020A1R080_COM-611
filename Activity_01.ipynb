{
  "nbformat": 4,
  "nbformat_minor": 0,
  "metadata": {
    "colab": {
      "provenance": []
    },
    "kernelspec": {
      "name": "python3",
      "display_name": "Python 3"
    },
    "language_info": {
      "name": "python"
    }
  },
  "cells": [
    {
      "cell_type": "markdown",
      "source": [],
      "metadata": {
        "id": "08xIWpc_RltQ"
      }
    },
    {
      "cell_type": "code",
      "execution_count": 2,
      "metadata": {
        "colab": {
          "base_uri": "https://localhost:8080/"
        },
        "id": "S21PkKSBQ-TD",
        "outputId": "4729df3b-8a2e-4aa0-bac4-6286c9b50a67"
      },
      "outputs": [
        {
          "output_type": "stream",
          "name": "stdout",
          "text": [
            "[['Some' 'Small' 'No' 'Affordable' 'Many']\n",
            " ['Many' 'Big' 'No' 'Expensive' 'One']\n",
            " ['Some' 'Big' 'Always' 'Expensive' 'Few']\n",
            " ['Many' 'Medium' 'No' 'Expensive' 'Many']\n",
            " ['Many' 'Small' 'No' 'Affordable' 'Many']]\n",
            "['No' 'Yes' 'No' 'Yes' 'Yes']\n"
          ]
        }
      ],
      "source": [
        "import pandas as pd\n",
        "import numpy as np\n",
        "data = pd.read_csv('Act1.csv')\n",
        "concepts = np.array(data)[:,:-1]\n",
        "print(concepts)\n",
        "\n",
        "target = np.array(data)[:,-1]\n",
        "print(target)"
      ]
    },
    {
      "cell_type": "code",
      "source": [
        "def train(con,tar):\n",
        "  for i,val in enumerate(tar):\n",
        "    if val == 'yes':\n",
        "      specific_h = con[i].copy()\n",
        "      break\n",
        "  for i,val in enumerate(con):\n",
        "    if tar[i] == 'yes':\n",
        "      for x in range(len(specific_h)):\n",
        "        if val[x] != specific_h[x]:\n",
        "          specific_h[x] = '?'\n",
        "        else:\n",
        "          pass\n",
        "  return specific_h\n",
        "print(train(concepts,target))"
      ],
      "metadata": {
        "colab": {
          "base_uri": "https://localhost:8080/",
          "height": 304
        },
        "id": "KMzjVGTlRs1G",
        "outputId": "a75e9b48-cc73-4492-f4b1-c43d85b29451"
      },
      "execution_count": 4,
      "outputs": [
        {
          "output_type": "error",
          "ename": "UnboundLocalError",
          "evalue": "ignored",
          "traceback": [
            "\u001b[0;31m---------------------------------------------------------------------------\u001b[0m",
            "\u001b[0;31mUnboundLocalError\u001b[0m                         Traceback (most recent call last)",
            "\u001b[0;32m<ipython-input-4-6c16fc6c4334>\u001b[0m in \u001b[0;36m<module>\u001b[0;34m\u001b[0m\n\u001b[1;32m     12\u001b[0m           \u001b[0;32mpass\u001b[0m\u001b[0;34m\u001b[0m\u001b[0;34m\u001b[0m\u001b[0m\n\u001b[1;32m     13\u001b[0m   \u001b[0;32mreturn\u001b[0m \u001b[0mspecific_h\u001b[0m\u001b[0;34m\u001b[0m\u001b[0;34m\u001b[0m\u001b[0m\n\u001b[0;32m---> 14\u001b[0;31m \u001b[0mprint\u001b[0m\u001b[0;34m(\u001b[0m\u001b[0mtrain\u001b[0m\u001b[0;34m(\u001b[0m\u001b[0mconcepts\u001b[0m\u001b[0;34m,\u001b[0m\u001b[0mtarget\u001b[0m\u001b[0;34m)\u001b[0m\u001b[0;34m)\u001b[0m\u001b[0;34m\u001b[0m\u001b[0;34m\u001b[0m\u001b[0m\n\u001b[0m",
            "\u001b[0;32m<ipython-input-4-6c16fc6c4334>\u001b[0m in \u001b[0;36mtrain\u001b[0;34m(con, tar)\u001b[0m\n\u001b[1;32m     11\u001b[0m         \u001b[0;32melse\u001b[0m\u001b[0;34m:\u001b[0m\u001b[0;34m\u001b[0m\u001b[0;34m\u001b[0m\u001b[0m\n\u001b[1;32m     12\u001b[0m           \u001b[0;32mpass\u001b[0m\u001b[0;34m\u001b[0m\u001b[0;34m\u001b[0m\u001b[0m\n\u001b[0;32m---> 13\u001b[0;31m   \u001b[0;32mreturn\u001b[0m \u001b[0mspecific_h\u001b[0m\u001b[0;34m\u001b[0m\u001b[0;34m\u001b[0m\u001b[0m\n\u001b[0m\u001b[1;32m     14\u001b[0m \u001b[0mprint\u001b[0m\u001b[0;34m(\u001b[0m\u001b[0mtrain\u001b[0m\u001b[0;34m(\u001b[0m\u001b[0mconcepts\u001b[0m\u001b[0;34m,\u001b[0m\u001b[0mtarget\u001b[0m\u001b[0;34m)\u001b[0m\u001b[0;34m)\u001b[0m\u001b[0;34m\u001b[0m\u001b[0;34m\u001b[0m\u001b[0m\n",
            "\u001b[0;31mUnboundLocalError\u001b[0m: local variable 'specific_h' referenced before assignment"
          ]
        }
      ]
    }
  ]
}