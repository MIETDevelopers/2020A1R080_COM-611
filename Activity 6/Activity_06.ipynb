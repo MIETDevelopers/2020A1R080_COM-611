{
  "cells": [
    {
      "cell_type": "markdown",
      "id": "4003455e",
      "metadata": {
        "id": "4003455e"
      },
      "source": [
        "### Implementing KNN Algorithm \n",
        "##### Iris Image classification based upon a given training dataset."
      ]
    },
    {
      "cell_type": "code",
      "execution_count": 2,
      "id": "48947549",
      "metadata": {
        "id": "48947549"
      },
      "outputs": [],
      "source": [
        "#importing Libraries\n",
        "import pandas as pd\n",
        "import numpy as np\n",
        "import matplotlib.pyplot as plt\n",
        "from sklearn.neighbors import KNeighborsClassifier\n",
        "from sklearn import preprocessing\n",
        "from sklearn.model_selection import train_test_split"
      ]
    },
    {
      "cell_type": "code",
      "execution_count": 4,
      "id": "4098c1ae",
      "metadata": {
        "colab": {
          "base_uri": "https://localhost:8080/",
          "height": 206
        },
        "id": "4098c1ae",
        "outputId": "c78aabfb-3cca-4c05-e8b7-e585d70c45ec"
      },
      "outputs": [
        {
          "output_type": "execute_result",
          "data": {
            "text/plain": [
              "      Id  SepalLengthCm  SepalWidthCm  PetalLengthCm  PetalWidthCm  \\\n",
              "145  146            6.7           3.0            5.2           2.3   \n",
              "146  147            6.3           2.5            5.0           1.9   \n",
              "147  148            6.5           3.0            5.2           2.0   \n",
              "148  149            6.2           3.4            5.4           2.3   \n",
              "149  150            5.9           3.0            5.1           1.8   \n",
              "\n",
              "            Species  \n",
              "145  Iris-virginica  \n",
              "146  Iris-virginica  \n",
              "147  Iris-virginica  \n",
              "148  Iris-virginica  \n",
              "149  Iris-virginica  "
            ],
            "text/html": [
              "\n",
              "  <div id=\"df-09228293-7011-4cc7-a2d0-bc8426ddf70d\">\n",
              "    <div class=\"colab-df-container\">\n",
              "      <div>\n",
              "<style scoped>\n",
              "    .dataframe tbody tr th:only-of-type {\n",
              "        vertical-align: middle;\n",
              "    }\n",
              "\n",
              "    .dataframe tbody tr th {\n",
              "        vertical-align: top;\n",
              "    }\n",
              "\n",
              "    .dataframe thead th {\n",
              "        text-align: right;\n",
              "    }\n",
              "</style>\n",
              "<table border=\"1\" class=\"dataframe\">\n",
              "  <thead>\n",
              "    <tr style=\"text-align: right;\">\n",
              "      <th></th>\n",
              "      <th>Id</th>\n",
              "      <th>SepalLengthCm</th>\n",
              "      <th>SepalWidthCm</th>\n",
              "      <th>PetalLengthCm</th>\n",
              "      <th>PetalWidthCm</th>\n",
              "      <th>Species</th>\n",
              "    </tr>\n",
              "  </thead>\n",
              "  <tbody>\n",
              "    <tr>\n",
              "      <th>145</th>\n",
              "      <td>146</td>\n",
              "      <td>6.7</td>\n",
              "      <td>3.0</td>\n",
              "      <td>5.2</td>\n",
              "      <td>2.3</td>\n",
              "      <td>Iris-virginica</td>\n",
              "    </tr>\n",
              "    <tr>\n",
              "      <th>146</th>\n",
              "      <td>147</td>\n",
              "      <td>6.3</td>\n",
              "      <td>2.5</td>\n",
              "      <td>5.0</td>\n",
              "      <td>1.9</td>\n",
              "      <td>Iris-virginica</td>\n",
              "    </tr>\n",
              "    <tr>\n",
              "      <th>147</th>\n",
              "      <td>148</td>\n",
              "      <td>6.5</td>\n",
              "      <td>3.0</td>\n",
              "      <td>5.2</td>\n",
              "      <td>2.0</td>\n",
              "      <td>Iris-virginica</td>\n",
              "    </tr>\n",
              "    <tr>\n",
              "      <th>148</th>\n",
              "      <td>149</td>\n",
              "      <td>6.2</td>\n",
              "      <td>3.4</td>\n",
              "      <td>5.4</td>\n",
              "      <td>2.3</td>\n",
              "      <td>Iris-virginica</td>\n",
              "    </tr>\n",
              "    <tr>\n",
              "      <th>149</th>\n",
              "      <td>150</td>\n",
              "      <td>5.9</td>\n",
              "      <td>3.0</td>\n",
              "      <td>5.1</td>\n",
              "      <td>1.8</td>\n",
              "      <td>Iris-virginica</td>\n",
              "    </tr>\n",
              "  </tbody>\n",
              "</table>\n",
              "</div>\n",
              "      <button class=\"colab-df-convert\" onclick=\"convertToInteractive('df-09228293-7011-4cc7-a2d0-bc8426ddf70d')\"\n",
              "              title=\"Convert this dataframe to an interactive table.\"\n",
              "              style=\"display:none;\">\n",
              "        \n",
              "  <svg xmlns=\"http://www.w3.org/2000/svg\" height=\"24px\"viewBox=\"0 0 24 24\"\n",
              "       width=\"24px\">\n",
              "    <path d=\"M0 0h24v24H0V0z\" fill=\"none\"/>\n",
              "    <path d=\"M18.56 5.44l.94 2.06.94-2.06 2.06-.94-2.06-.94-.94-2.06-.94 2.06-2.06.94zm-11 1L8.5 8.5l.94-2.06 2.06-.94-2.06-.94L8.5 2.5l-.94 2.06-2.06.94zm10 10l.94 2.06.94-2.06 2.06-.94-2.06-.94-.94-2.06-.94 2.06-2.06.94z\"/><path d=\"M17.41 7.96l-1.37-1.37c-.4-.4-.92-.59-1.43-.59-.52 0-1.04.2-1.43.59L10.3 9.45l-7.72 7.72c-.78.78-.78 2.05 0 2.83L4 21.41c.39.39.9.59 1.41.59.51 0 1.02-.2 1.41-.59l7.78-7.78 2.81-2.81c.8-.78.8-2.07 0-2.86zM5.41 20L4 18.59l7.72-7.72 1.47 1.35L5.41 20z\"/>\n",
              "  </svg>\n",
              "      </button>\n",
              "      \n",
              "  <style>\n",
              "    .colab-df-container {\n",
              "      display:flex;\n",
              "      flex-wrap:wrap;\n",
              "      gap: 12px;\n",
              "    }\n",
              "\n",
              "    .colab-df-convert {\n",
              "      background-color: #E8F0FE;\n",
              "      border: none;\n",
              "      border-radius: 50%;\n",
              "      cursor: pointer;\n",
              "      display: none;\n",
              "      fill: #1967D2;\n",
              "      height: 32px;\n",
              "      padding: 0 0 0 0;\n",
              "      width: 32px;\n",
              "    }\n",
              "\n",
              "    .colab-df-convert:hover {\n",
              "      background-color: #E2EBFA;\n",
              "      box-shadow: 0px 1px 2px rgba(60, 64, 67, 0.3), 0px 1px 3px 1px rgba(60, 64, 67, 0.15);\n",
              "      fill: #174EA6;\n",
              "    }\n",
              "\n",
              "    [theme=dark] .colab-df-convert {\n",
              "      background-color: #3B4455;\n",
              "      fill: #D2E3FC;\n",
              "    }\n",
              "\n",
              "    [theme=dark] .colab-df-convert:hover {\n",
              "      background-color: #434B5C;\n",
              "      box-shadow: 0px 1px 3px 1px rgba(0, 0, 0, 0.15);\n",
              "      filter: drop-shadow(0px 1px 2px rgba(0, 0, 0, 0.3));\n",
              "      fill: #FFFFFF;\n",
              "    }\n",
              "  </style>\n",
              "\n",
              "      <script>\n",
              "        const buttonEl =\n",
              "          document.querySelector('#df-09228293-7011-4cc7-a2d0-bc8426ddf70d button.colab-df-convert');\n",
              "        buttonEl.style.display =\n",
              "          google.colab.kernel.accessAllowed ? 'block' : 'none';\n",
              "\n",
              "        async function convertToInteractive(key) {\n",
              "          const element = document.querySelector('#df-09228293-7011-4cc7-a2d0-bc8426ddf70d');\n",
              "          const dataTable =\n",
              "            await google.colab.kernel.invokeFunction('convertToInteractive',\n",
              "                                                     [key], {});\n",
              "          if (!dataTable) return;\n",
              "\n",
              "          const docLinkHtml = 'Like what you see? Visit the ' +\n",
              "            '<a target=\"_blank\" href=https://colab.research.google.com/notebooks/data_table.ipynb>data table notebook</a>'\n",
              "            + ' to learn more about interactive tables.';\n",
              "          element.innerHTML = '';\n",
              "          dataTable['output_type'] = 'display_data';\n",
              "          await google.colab.output.renderOutput(dataTable, element);\n",
              "          const docLink = document.createElement('div');\n",
              "          docLink.innerHTML = docLinkHtml;\n",
              "          element.appendChild(docLink);\n",
              "        }\n",
              "      </script>\n",
              "    </div>\n",
              "  </div>\n",
              "  "
            ]
          },
          "metadata": {},
          "execution_count": 4
        }
      ],
      "source": [
        "#loading Data Set\n",
        "iris = pd.read_csv('Iris.csv')\n",
        "#iris.head(5)\n",
        "iris.tail(5)"
      ]
    },
    {
      "cell_type": "markdown",
      "id": "98509ce4",
      "metadata": {
        "id": "98509ce4"
      },
      "source": [
        "#### Data Visualization And Analysis"
      ]
    },
    {
      "cell_type": "code",
      "execution_count": 5,
      "id": "46a01a66",
      "metadata": {
        "colab": {
          "base_uri": "https://localhost:8080/",
          "height": 0
        },
        "id": "46a01a66",
        "outputId": "b55e233b-fcaa-45a5-de8e-ab1c0df34f18"
      },
      "outputs": [
        {
          "output_type": "execute_result",
          "data": {
            "text/plain": [
              "(150, 6)"
            ]
          },
          "metadata": {},
          "execution_count": 5
        }
      ],
      "source": [
        "iris.shape"
      ]
    },
    {
      "cell_type": "code",
      "execution_count": 6,
      "id": "70e136a5",
      "metadata": {
        "colab": {
          "base_uri": "https://localhost:8080/",
          "height": 0
        },
        "id": "70e136a5",
        "outputId": "e07d3b9c-63ce-4d47-cc0b-722137d4aaae"
      },
      "outputs": [
        {
          "output_type": "execute_result",
          "data": {
            "text/plain": [
              "Iris-setosa        50\n",
              "Iris-versicolor    50\n",
              "Iris-virginica     50\n",
              "Name: Species, dtype: int64"
            ]
          },
          "metadata": {},
          "execution_count": 6
        }
      ],
      "source": [
        "iris['Species'].value_counts()"
      ]
    },
    {
      "cell_type": "code",
      "execution_count": 7,
      "id": "903f0429",
      "metadata": {
        "colab": {
          "base_uri": "https://localhost:8080/",
          "height": 0
        },
        "id": "903f0429",
        "outputId": "fbc096d5-0b7f-4f2f-b887-a7d2c8beb8ae"
      },
      "outputs": [
        {
          "output_type": "execute_result",
          "data": {
            "text/plain": [
              "Index(['Id', 'SepalLengthCm', 'SepalWidthCm', 'PetalLengthCm', 'PetalWidthCm',\n",
              "       'Species'],\n",
              "      dtype='object')"
            ]
          },
          "metadata": {},
          "execution_count": 7
        }
      ],
      "source": [
        "iris.columns"
      ]
    },
    {
      "cell_type": "code",
      "execution_count": 8,
      "id": "7e709c0f",
      "metadata": {
        "colab": {
          "base_uri": "https://localhost:8080/",
          "height": 0
        },
        "id": "7e709c0f",
        "outputId": "a5584e22-22e5-4091-c1e7-9c18d8e45ffb"
      },
      "outputs": [
        {
          "output_type": "execute_result",
          "data": {
            "text/plain": [
              "array([[1, 5.1, 3.5, 1.4, 0.2, 'Iris-setosa'],\n",
              "       [2, 4.9, 3.0, 1.4, 0.2, 'Iris-setosa'],\n",
              "       [3, 4.7, 3.2, 1.3, 0.2, 'Iris-setosa'],\n",
              "       [4, 4.6, 3.1, 1.5, 0.2, 'Iris-setosa'],\n",
              "       [5, 5.0, 3.6, 1.4, 0.2, 'Iris-setosa'],\n",
              "       [6, 5.4, 3.9, 1.7, 0.4, 'Iris-setosa'],\n",
              "       [7, 4.6, 3.4, 1.4, 0.3, 'Iris-setosa'],\n",
              "       [8, 5.0, 3.4, 1.5, 0.2, 'Iris-setosa'],\n",
              "       [9, 4.4, 2.9, 1.4, 0.2, 'Iris-setosa'],\n",
              "       [10, 4.9, 3.1, 1.5, 0.1, 'Iris-setosa'],\n",
              "       [11, 5.4, 3.7, 1.5, 0.2, 'Iris-setosa'],\n",
              "       [12, 4.8, 3.4, 1.6, 0.2, 'Iris-setosa'],\n",
              "       [13, 4.8, 3.0, 1.4, 0.1, 'Iris-setosa'],\n",
              "       [14, 4.3, 3.0, 1.1, 0.1, 'Iris-setosa'],\n",
              "       [15, 5.8, 4.0, 1.2, 0.2, 'Iris-setosa'],\n",
              "       [16, 5.7, 4.4, 1.5, 0.4, 'Iris-setosa'],\n",
              "       [17, 5.4, 3.9, 1.3, 0.4, 'Iris-setosa'],\n",
              "       [18, 5.1, 3.5, 1.4, 0.3, 'Iris-setosa'],\n",
              "       [19, 5.7, 3.8, 1.7, 0.3, 'Iris-setosa'],\n",
              "       [20, 5.1, 3.8, 1.5, 0.3, 'Iris-setosa'],\n",
              "       [21, 5.4, 3.4, 1.7, 0.2, 'Iris-setosa'],\n",
              "       [22, 5.1, 3.7, 1.5, 0.4, 'Iris-setosa'],\n",
              "       [23, 4.6, 3.6, 1.0, 0.2, 'Iris-setosa'],\n",
              "       [24, 5.1, 3.3, 1.7, 0.5, 'Iris-setosa'],\n",
              "       [25, 4.8, 3.4, 1.9, 0.2, 'Iris-setosa'],\n",
              "       [26, 5.0, 3.0, 1.6, 0.2, 'Iris-setosa'],\n",
              "       [27, 5.0, 3.4, 1.6, 0.4, 'Iris-setosa'],\n",
              "       [28, 5.2, 3.5, 1.5, 0.2, 'Iris-setosa'],\n",
              "       [29, 5.2, 3.4, 1.4, 0.2, 'Iris-setosa'],\n",
              "       [30, 4.7, 3.2, 1.6, 0.2, 'Iris-setosa'],\n",
              "       [31, 4.8, 3.1, 1.6, 0.2, 'Iris-setosa'],\n",
              "       [32, 5.4, 3.4, 1.5, 0.4, 'Iris-setosa'],\n",
              "       [33, 5.2, 4.1, 1.5, 0.1, 'Iris-setosa'],\n",
              "       [34, 5.5, 4.2, 1.4, 0.2, 'Iris-setosa'],\n",
              "       [35, 4.9, 3.1, 1.5, 0.1, 'Iris-setosa'],\n",
              "       [36, 5.0, 3.2, 1.2, 0.2, 'Iris-setosa'],\n",
              "       [37, 5.5, 3.5, 1.3, 0.2, 'Iris-setosa'],\n",
              "       [38, 4.9, 3.1, 1.5, 0.1, 'Iris-setosa'],\n",
              "       [39, 4.4, 3.0, 1.3, 0.2, 'Iris-setosa'],\n",
              "       [40, 5.1, 3.4, 1.5, 0.2, 'Iris-setosa'],\n",
              "       [41, 5.0, 3.5, 1.3, 0.3, 'Iris-setosa'],\n",
              "       [42, 4.5, 2.3, 1.3, 0.3, 'Iris-setosa'],\n",
              "       [43, 4.4, 3.2, 1.3, 0.2, 'Iris-setosa'],\n",
              "       [44, 5.0, 3.5, 1.6, 0.6, 'Iris-setosa'],\n",
              "       [45, 5.1, 3.8, 1.9, 0.4, 'Iris-setosa'],\n",
              "       [46, 4.8, 3.0, 1.4, 0.3, 'Iris-setosa'],\n",
              "       [47, 5.1, 3.8, 1.6, 0.2, 'Iris-setosa'],\n",
              "       [48, 4.6, 3.2, 1.4, 0.2, 'Iris-setosa'],\n",
              "       [49, 5.3, 3.7, 1.5, 0.2, 'Iris-setosa'],\n",
              "       [50, 5.0, 3.3, 1.4, 0.2, 'Iris-setosa'],\n",
              "       [51, 7.0, 3.2, 4.7, 1.4, 'Iris-versicolor'],\n",
              "       [52, 6.4, 3.2, 4.5, 1.5, 'Iris-versicolor'],\n",
              "       [53, 6.9, 3.1, 4.9, 1.5, 'Iris-versicolor'],\n",
              "       [54, 5.5, 2.3, 4.0, 1.3, 'Iris-versicolor'],\n",
              "       [55, 6.5, 2.8, 4.6, 1.5, 'Iris-versicolor'],\n",
              "       [56, 5.7, 2.8, 4.5, 1.3, 'Iris-versicolor'],\n",
              "       [57, 6.3, 3.3, 4.7, 1.6, 'Iris-versicolor'],\n",
              "       [58, 4.9, 2.4, 3.3, 1.0, 'Iris-versicolor'],\n",
              "       [59, 6.6, 2.9, 4.6, 1.3, 'Iris-versicolor'],\n",
              "       [60, 5.2, 2.7, 3.9, 1.4, 'Iris-versicolor'],\n",
              "       [61, 5.0, 2.0, 3.5, 1.0, 'Iris-versicolor'],\n",
              "       [62, 5.9, 3.0, 4.2, 1.5, 'Iris-versicolor'],\n",
              "       [63, 6.0, 2.2, 4.0, 1.0, 'Iris-versicolor'],\n",
              "       [64, 6.1, 2.9, 4.7, 1.4, 'Iris-versicolor'],\n",
              "       [65, 5.6, 2.9, 3.6, 1.3, 'Iris-versicolor'],\n",
              "       [66, 6.7, 3.1, 4.4, 1.4, 'Iris-versicolor'],\n",
              "       [67, 5.6, 3.0, 4.5, 1.5, 'Iris-versicolor'],\n",
              "       [68, 5.8, 2.7, 4.1, 1.0, 'Iris-versicolor'],\n",
              "       [69, 6.2, 2.2, 4.5, 1.5, 'Iris-versicolor'],\n",
              "       [70, 5.6, 2.5, 3.9, 1.1, 'Iris-versicolor'],\n",
              "       [71, 5.9, 3.2, 4.8, 1.8, 'Iris-versicolor'],\n",
              "       [72, 6.1, 2.8, 4.0, 1.3, 'Iris-versicolor'],\n",
              "       [73, 6.3, 2.5, 4.9, 1.5, 'Iris-versicolor'],\n",
              "       [74, 6.1, 2.8, 4.7, 1.2, 'Iris-versicolor'],\n",
              "       [75, 6.4, 2.9, 4.3, 1.3, 'Iris-versicolor'],\n",
              "       [76, 6.6, 3.0, 4.4, 1.4, 'Iris-versicolor'],\n",
              "       [77, 6.8, 2.8, 4.8, 1.4, 'Iris-versicolor'],\n",
              "       [78, 6.7, 3.0, 5.0, 1.7, 'Iris-versicolor'],\n",
              "       [79, 6.0, 2.9, 4.5, 1.5, 'Iris-versicolor'],\n",
              "       [80, 5.7, 2.6, 3.5, 1.0, 'Iris-versicolor'],\n",
              "       [81, 5.5, 2.4, 3.8, 1.1, 'Iris-versicolor'],\n",
              "       [82, 5.5, 2.4, 3.7, 1.0, 'Iris-versicolor'],\n",
              "       [83, 5.8, 2.7, 3.9, 1.2, 'Iris-versicolor'],\n",
              "       [84, 6.0, 2.7, 5.1, 1.6, 'Iris-versicolor'],\n",
              "       [85, 5.4, 3.0, 4.5, 1.5, 'Iris-versicolor'],\n",
              "       [86, 6.0, 3.4, 4.5, 1.6, 'Iris-versicolor'],\n",
              "       [87, 6.7, 3.1, 4.7, 1.5, 'Iris-versicolor'],\n",
              "       [88, 6.3, 2.3, 4.4, 1.3, 'Iris-versicolor'],\n",
              "       [89, 5.6, 3.0, 4.1, 1.3, 'Iris-versicolor'],\n",
              "       [90, 5.5, 2.5, 4.0, 1.3, 'Iris-versicolor'],\n",
              "       [91, 5.5, 2.6, 4.4, 1.2, 'Iris-versicolor'],\n",
              "       [92, 6.1, 3.0, 4.6, 1.4, 'Iris-versicolor'],\n",
              "       [93, 5.8, 2.6, 4.0, 1.2, 'Iris-versicolor'],\n",
              "       [94, 5.0, 2.3, 3.3, 1.0, 'Iris-versicolor'],\n",
              "       [95, 5.6, 2.7, 4.2, 1.3, 'Iris-versicolor'],\n",
              "       [96, 5.7, 3.0, 4.2, 1.2, 'Iris-versicolor'],\n",
              "       [97, 5.7, 2.9, 4.2, 1.3, 'Iris-versicolor'],\n",
              "       [98, 6.2, 2.9, 4.3, 1.3, 'Iris-versicolor'],\n",
              "       [99, 5.1, 2.5, 3.0, 1.1, 'Iris-versicolor'],\n",
              "       [100, 5.7, 2.8, 4.1, 1.3, 'Iris-versicolor'],\n",
              "       [101, 6.3, 3.3, 6.0, 2.5, 'Iris-virginica'],\n",
              "       [102, 5.8, 2.7, 5.1, 1.9, 'Iris-virginica'],\n",
              "       [103, 7.1, 3.0, 5.9, 2.1, 'Iris-virginica'],\n",
              "       [104, 6.3, 2.9, 5.6, 1.8, 'Iris-virginica'],\n",
              "       [105, 6.5, 3.0, 5.8, 2.2, 'Iris-virginica'],\n",
              "       [106, 7.6, 3.0, 6.6, 2.1, 'Iris-virginica'],\n",
              "       [107, 4.9, 2.5, 4.5, 1.7, 'Iris-virginica'],\n",
              "       [108, 7.3, 2.9, 6.3, 1.8, 'Iris-virginica'],\n",
              "       [109, 6.7, 2.5, 5.8, 1.8, 'Iris-virginica'],\n",
              "       [110, 7.2, 3.6, 6.1, 2.5, 'Iris-virginica'],\n",
              "       [111, 6.5, 3.2, 5.1, 2.0, 'Iris-virginica'],\n",
              "       [112, 6.4, 2.7, 5.3, 1.9, 'Iris-virginica'],\n",
              "       [113, 6.8, 3.0, 5.5, 2.1, 'Iris-virginica'],\n",
              "       [114, 5.7, 2.5, 5.0, 2.0, 'Iris-virginica'],\n",
              "       [115, 5.8, 2.8, 5.1, 2.4, 'Iris-virginica'],\n",
              "       [116, 6.4, 3.2, 5.3, 2.3, 'Iris-virginica'],\n",
              "       [117, 6.5, 3.0, 5.5, 1.8, 'Iris-virginica'],\n",
              "       [118, 7.7, 3.8, 6.7, 2.2, 'Iris-virginica'],\n",
              "       [119, 7.7, 2.6, 6.9, 2.3, 'Iris-virginica'],\n",
              "       [120, 6.0, 2.2, 5.0, 1.5, 'Iris-virginica'],\n",
              "       [121, 6.9, 3.2, 5.7, 2.3, 'Iris-virginica'],\n",
              "       [122, 5.6, 2.8, 4.9, 2.0, 'Iris-virginica'],\n",
              "       [123, 7.7, 2.8, 6.7, 2.0, 'Iris-virginica'],\n",
              "       [124, 6.3, 2.7, 4.9, 1.8, 'Iris-virginica'],\n",
              "       [125, 6.7, 3.3, 5.7, 2.1, 'Iris-virginica'],\n",
              "       [126, 7.2, 3.2, 6.0, 1.8, 'Iris-virginica'],\n",
              "       [127, 6.2, 2.8, 4.8, 1.8, 'Iris-virginica'],\n",
              "       [128, 6.1, 3.0, 4.9, 1.8, 'Iris-virginica'],\n",
              "       [129, 6.4, 2.8, 5.6, 2.1, 'Iris-virginica'],\n",
              "       [130, 7.2, 3.0, 5.8, 1.6, 'Iris-virginica'],\n",
              "       [131, 7.4, 2.8, 6.1, 1.9, 'Iris-virginica'],\n",
              "       [132, 7.9, 3.8, 6.4, 2.0, 'Iris-virginica'],\n",
              "       [133, 6.4, 2.8, 5.6, 2.2, 'Iris-virginica'],\n",
              "       [134, 6.3, 2.8, 5.1, 1.5, 'Iris-virginica'],\n",
              "       [135, 6.1, 2.6, 5.6, 1.4, 'Iris-virginica'],\n",
              "       [136, 7.7, 3.0, 6.1, 2.3, 'Iris-virginica'],\n",
              "       [137, 6.3, 3.4, 5.6, 2.4, 'Iris-virginica'],\n",
              "       [138, 6.4, 3.1, 5.5, 1.8, 'Iris-virginica'],\n",
              "       [139, 6.0, 3.0, 4.8, 1.8, 'Iris-virginica'],\n",
              "       [140, 6.9, 3.1, 5.4, 2.1, 'Iris-virginica'],\n",
              "       [141, 6.7, 3.1, 5.6, 2.4, 'Iris-virginica'],\n",
              "       [142, 6.9, 3.1, 5.1, 2.3, 'Iris-virginica'],\n",
              "       [143, 5.8, 2.7, 5.1, 1.9, 'Iris-virginica'],\n",
              "       [144, 6.8, 3.2, 5.9, 2.3, 'Iris-virginica'],\n",
              "       [145, 6.7, 3.3, 5.7, 2.5, 'Iris-virginica'],\n",
              "       [146, 6.7, 3.0, 5.2, 2.3, 'Iris-virginica'],\n",
              "       [147, 6.3, 2.5, 5.0, 1.9, 'Iris-virginica'],\n",
              "       [148, 6.5, 3.0, 5.2, 2.0, 'Iris-virginica'],\n",
              "       [149, 6.2, 3.4, 5.4, 2.3, 'Iris-virginica'],\n",
              "       [150, 5.9, 3.0, 5.1, 1.8, 'Iris-virginica']], dtype=object)"
            ]
          },
          "metadata": {},
          "execution_count": 8
        }
      ],
      "source": [
        "iris.values"
      ]
    },
    {
      "cell_type": "code",
      "execution_count": 9,
      "id": "b1d4c4b5",
      "metadata": {
        "colab": {
          "base_uri": "https://localhost:8080/",
          "height": 0
        },
        "id": "b1d4c4b5",
        "outputId": "201cb50e-77da-4038-87d9-70e0669e1914"
      },
      "outputs": [
        {
          "output_type": "stream",
          "name": "stdout",
          "text": [
            "<class 'pandas.core.frame.DataFrame'>\n",
            "RangeIndex: 150 entries, 0 to 149\n",
            "Data columns (total 6 columns):\n",
            " #   Column         Non-Null Count  Dtype  \n",
            "---  ------         --------------  -----  \n",
            " 0   Id             150 non-null    int64  \n",
            " 1   SepalLengthCm  150 non-null    float64\n",
            " 2   SepalWidthCm   150 non-null    float64\n",
            " 3   PetalLengthCm  150 non-null    float64\n",
            " 4   PetalWidthCm   150 non-null    float64\n",
            " 5   Species        150 non-null    object \n",
            "dtypes: float64(4), int64(1), object(1)\n",
            "memory usage: 7.2+ KB\n"
          ]
        }
      ],
      "source": [
        "iris.info()"
      ]
    },
    {
      "cell_type": "code",
      "execution_count": 10,
      "id": "a5c6466e",
      "metadata": {
        "colab": {
          "base_uri": "https://localhost:8080/",
          "height": 394
        },
        "id": "a5c6466e",
        "outputId": "33b1827c-1d5a-4e3e-8e9f-0d2bca1345ec"
      },
      "outputs": [
        {
          "output_type": "execute_result",
          "data": {
            "text/plain": [
              "                Id  SepalLengthCm  SepalWidthCm  PetalLengthCm  PetalWidthCm  \\\n",
              "count   150.000000     150.000000    150.000000     150.000000    150.000000   \n",
              "unique         NaN            NaN           NaN            NaN           NaN   \n",
              "top            NaN            NaN           NaN            NaN           NaN   \n",
              "freq           NaN            NaN           NaN            NaN           NaN   \n",
              "mean     75.500000       5.843333      3.054000       3.758667      1.198667   \n",
              "std      43.445368       0.828066      0.433594       1.764420      0.763161   \n",
              "min       1.000000       4.300000      2.000000       1.000000      0.100000   \n",
              "25%      38.250000       5.100000      2.800000       1.600000      0.300000   \n",
              "50%      75.500000       5.800000      3.000000       4.350000      1.300000   \n",
              "75%     112.750000       6.400000      3.300000       5.100000      1.800000   \n",
              "max     150.000000       7.900000      4.400000       6.900000      2.500000   \n",
              "\n",
              "            Species  \n",
              "count           150  \n",
              "unique            3  \n",
              "top     Iris-setosa  \n",
              "freq             50  \n",
              "mean            NaN  \n",
              "std             NaN  \n",
              "min             NaN  \n",
              "25%             NaN  \n",
              "50%             NaN  \n",
              "75%             NaN  \n",
              "max             NaN  "
            ],
            "text/html": [
              "\n",
              "  <div id=\"df-453f7083-a49f-4e14-afff-984583e7fd35\">\n",
              "    <div class=\"colab-df-container\">\n",
              "      <div>\n",
              "<style scoped>\n",
              "    .dataframe tbody tr th:only-of-type {\n",
              "        vertical-align: middle;\n",
              "    }\n",
              "\n",
              "    .dataframe tbody tr th {\n",
              "        vertical-align: top;\n",
              "    }\n",
              "\n",
              "    .dataframe thead th {\n",
              "        text-align: right;\n",
              "    }\n",
              "</style>\n",
              "<table border=\"1\" class=\"dataframe\">\n",
              "  <thead>\n",
              "    <tr style=\"text-align: right;\">\n",
              "      <th></th>\n",
              "      <th>Id</th>\n",
              "      <th>SepalLengthCm</th>\n",
              "      <th>SepalWidthCm</th>\n",
              "      <th>PetalLengthCm</th>\n",
              "      <th>PetalWidthCm</th>\n",
              "      <th>Species</th>\n",
              "    </tr>\n",
              "  </thead>\n",
              "  <tbody>\n",
              "    <tr>\n",
              "      <th>count</th>\n",
              "      <td>150.000000</td>\n",
              "      <td>150.000000</td>\n",
              "      <td>150.000000</td>\n",
              "      <td>150.000000</td>\n",
              "      <td>150.000000</td>\n",
              "      <td>150</td>\n",
              "    </tr>\n",
              "    <tr>\n",
              "      <th>unique</th>\n",
              "      <td>NaN</td>\n",
              "      <td>NaN</td>\n",
              "      <td>NaN</td>\n",
              "      <td>NaN</td>\n",
              "      <td>NaN</td>\n",
              "      <td>3</td>\n",
              "    </tr>\n",
              "    <tr>\n",
              "      <th>top</th>\n",
              "      <td>NaN</td>\n",
              "      <td>NaN</td>\n",
              "      <td>NaN</td>\n",
              "      <td>NaN</td>\n",
              "      <td>NaN</td>\n",
              "      <td>Iris-setosa</td>\n",
              "    </tr>\n",
              "    <tr>\n",
              "      <th>freq</th>\n",
              "      <td>NaN</td>\n",
              "      <td>NaN</td>\n",
              "      <td>NaN</td>\n",
              "      <td>NaN</td>\n",
              "      <td>NaN</td>\n",
              "      <td>50</td>\n",
              "    </tr>\n",
              "    <tr>\n",
              "      <th>mean</th>\n",
              "      <td>75.500000</td>\n",
              "      <td>5.843333</td>\n",
              "      <td>3.054000</td>\n",
              "      <td>3.758667</td>\n",
              "      <td>1.198667</td>\n",
              "      <td>NaN</td>\n",
              "    </tr>\n",
              "    <tr>\n",
              "      <th>std</th>\n",
              "      <td>43.445368</td>\n",
              "      <td>0.828066</td>\n",
              "      <td>0.433594</td>\n",
              "      <td>1.764420</td>\n",
              "      <td>0.763161</td>\n",
              "      <td>NaN</td>\n",
              "    </tr>\n",
              "    <tr>\n",
              "      <th>min</th>\n",
              "      <td>1.000000</td>\n",
              "      <td>4.300000</td>\n",
              "      <td>2.000000</td>\n",
              "      <td>1.000000</td>\n",
              "      <td>0.100000</td>\n",
              "      <td>NaN</td>\n",
              "    </tr>\n",
              "    <tr>\n",
              "      <th>25%</th>\n",
              "      <td>38.250000</td>\n",
              "      <td>5.100000</td>\n",
              "      <td>2.800000</td>\n",
              "      <td>1.600000</td>\n",
              "      <td>0.300000</td>\n",
              "      <td>NaN</td>\n",
              "    </tr>\n",
              "    <tr>\n",
              "      <th>50%</th>\n",
              "      <td>75.500000</td>\n",
              "      <td>5.800000</td>\n",
              "      <td>3.000000</td>\n",
              "      <td>4.350000</td>\n",
              "      <td>1.300000</td>\n",
              "      <td>NaN</td>\n",
              "    </tr>\n",
              "    <tr>\n",
              "      <th>75%</th>\n",
              "      <td>112.750000</td>\n",
              "      <td>6.400000</td>\n",
              "      <td>3.300000</td>\n",
              "      <td>5.100000</td>\n",
              "      <td>1.800000</td>\n",
              "      <td>NaN</td>\n",
              "    </tr>\n",
              "    <tr>\n",
              "      <th>max</th>\n",
              "      <td>150.000000</td>\n",
              "      <td>7.900000</td>\n",
              "      <td>4.400000</td>\n",
              "      <td>6.900000</td>\n",
              "      <td>2.500000</td>\n",
              "      <td>NaN</td>\n",
              "    </tr>\n",
              "  </tbody>\n",
              "</table>\n",
              "</div>\n",
              "      <button class=\"colab-df-convert\" onclick=\"convertToInteractive('df-453f7083-a49f-4e14-afff-984583e7fd35')\"\n",
              "              title=\"Convert this dataframe to an interactive table.\"\n",
              "              style=\"display:none;\">\n",
              "        \n",
              "  <svg xmlns=\"http://www.w3.org/2000/svg\" height=\"24px\"viewBox=\"0 0 24 24\"\n",
              "       width=\"24px\">\n",
              "    <path d=\"M0 0h24v24H0V0z\" fill=\"none\"/>\n",
              "    <path d=\"M18.56 5.44l.94 2.06.94-2.06 2.06-.94-2.06-.94-.94-2.06-.94 2.06-2.06.94zm-11 1L8.5 8.5l.94-2.06 2.06-.94-2.06-.94L8.5 2.5l-.94 2.06-2.06.94zm10 10l.94 2.06.94-2.06 2.06-.94-2.06-.94-.94-2.06-.94 2.06-2.06.94z\"/><path d=\"M17.41 7.96l-1.37-1.37c-.4-.4-.92-.59-1.43-.59-.52 0-1.04.2-1.43.59L10.3 9.45l-7.72 7.72c-.78.78-.78 2.05 0 2.83L4 21.41c.39.39.9.59 1.41.59.51 0 1.02-.2 1.41-.59l7.78-7.78 2.81-2.81c.8-.78.8-2.07 0-2.86zM5.41 20L4 18.59l7.72-7.72 1.47 1.35L5.41 20z\"/>\n",
              "  </svg>\n",
              "      </button>\n",
              "      \n",
              "  <style>\n",
              "    .colab-df-container {\n",
              "      display:flex;\n",
              "      flex-wrap:wrap;\n",
              "      gap: 12px;\n",
              "    }\n",
              "\n",
              "    .colab-df-convert {\n",
              "      background-color: #E8F0FE;\n",
              "      border: none;\n",
              "      border-radius: 50%;\n",
              "      cursor: pointer;\n",
              "      display: none;\n",
              "      fill: #1967D2;\n",
              "      height: 32px;\n",
              "      padding: 0 0 0 0;\n",
              "      width: 32px;\n",
              "    }\n",
              "\n",
              "    .colab-df-convert:hover {\n",
              "      background-color: #E2EBFA;\n",
              "      box-shadow: 0px 1px 2px rgba(60, 64, 67, 0.3), 0px 1px 3px 1px rgba(60, 64, 67, 0.15);\n",
              "      fill: #174EA6;\n",
              "    }\n",
              "\n",
              "    [theme=dark] .colab-df-convert {\n",
              "      background-color: #3B4455;\n",
              "      fill: #D2E3FC;\n",
              "    }\n",
              "\n",
              "    [theme=dark] .colab-df-convert:hover {\n",
              "      background-color: #434B5C;\n",
              "      box-shadow: 0px 1px 3px 1px rgba(0, 0, 0, 0.15);\n",
              "      filter: drop-shadow(0px 1px 2px rgba(0, 0, 0, 0.3));\n",
              "      fill: #FFFFFF;\n",
              "    }\n",
              "  </style>\n",
              "\n",
              "      <script>\n",
              "        const buttonEl =\n",
              "          document.querySelector('#df-453f7083-a49f-4e14-afff-984583e7fd35 button.colab-df-convert');\n",
              "        buttonEl.style.display =\n",
              "          google.colab.kernel.accessAllowed ? 'block' : 'none';\n",
              "\n",
              "        async function convertToInteractive(key) {\n",
              "          const element = document.querySelector('#df-453f7083-a49f-4e14-afff-984583e7fd35');\n",
              "          const dataTable =\n",
              "            await google.colab.kernel.invokeFunction('convertToInteractive',\n",
              "                                                     [key], {});\n",
              "          if (!dataTable) return;\n",
              "\n",
              "          const docLinkHtml = 'Like what you see? Visit the ' +\n",
              "            '<a target=\"_blank\" href=https://colab.research.google.com/notebooks/data_table.ipynb>data table notebook</a>'\n",
              "            + ' to learn more about interactive tables.';\n",
              "          element.innerHTML = '';\n",
              "          dataTable['output_type'] = 'display_data';\n",
              "          await google.colab.output.renderOutput(dataTable, element);\n",
              "          const docLink = document.createElement('div');\n",
              "          docLink.innerHTML = docLinkHtml;\n",
              "          element.appendChild(docLink);\n",
              "        }\n",
              "      </script>\n",
              "    </div>\n",
              "  </div>\n",
              "  "
            ]
          },
          "metadata": {},
          "execution_count": 10
        }
      ],
      "source": [
        "iris.describe(include = 'all')"
      ]
    },
    {
      "cell_type": "code",
      "execution_count": 11,
      "id": "b8089d45",
      "metadata": {
        "colab": {
          "base_uri": "https://localhost:8080/",
          "height": 206
        },
        "id": "b8089d45",
        "outputId": "0b3ffd60-f2f5-4877-f2ba-66b8ebfdb89a"
      },
      "outputs": [
        {
          "output_type": "execute_result",
          "data": {
            "text/plain": [
              "   Id  SepalLengthCm  SepalWidthCm  PetalLengthCm\n",
              "0   1            5.1           3.5            1.4\n",
              "1   2            4.9           3.0            1.4\n",
              "2   3            4.7           3.2            1.3\n",
              "3   4            4.6           3.1            1.5\n",
              "4   5            5.0           3.6            1.4"
            ],
            "text/html": [
              "\n",
              "  <div id=\"df-5b3bc18c-d082-4327-a30f-de506873904c\">\n",
              "    <div class=\"colab-df-container\">\n",
              "      <div>\n",
              "<style scoped>\n",
              "    .dataframe tbody tr th:only-of-type {\n",
              "        vertical-align: middle;\n",
              "    }\n",
              "\n",
              "    .dataframe tbody tr th {\n",
              "        vertical-align: top;\n",
              "    }\n",
              "\n",
              "    .dataframe thead th {\n",
              "        text-align: right;\n",
              "    }\n",
              "</style>\n",
              "<table border=\"1\" class=\"dataframe\">\n",
              "  <thead>\n",
              "    <tr style=\"text-align: right;\">\n",
              "      <th></th>\n",
              "      <th>Id</th>\n",
              "      <th>SepalLengthCm</th>\n",
              "      <th>SepalWidthCm</th>\n",
              "      <th>PetalLengthCm</th>\n",
              "    </tr>\n",
              "  </thead>\n",
              "  <tbody>\n",
              "    <tr>\n",
              "      <th>0</th>\n",
              "      <td>1</td>\n",
              "      <td>5.1</td>\n",
              "      <td>3.5</td>\n",
              "      <td>1.4</td>\n",
              "    </tr>\n",
              "    <tr>\n",
              "      <th>1</th>\n",
              "      <td>2</td>\n",
              "      <td>4.9</td>\n",
              "      <td>3.0</td>\n",
              "      <td>1.4</td>\n",
              "    </tr>\n",
              "    <tr>\n",
              "      <th>2</th>\n",
              "      <td>3</td>\n",
              "      <td>4.7</td>\n",
              "      <td>3.2</td>\n",
              "      <td>1.3</td>\n",
              "    </tr>\n",
              "    <tr>\n",
              "      <th>3</th>\n",
              "      <td>4</td>\n",
              "      <td>4.6</td>\n",
              "      <td>3.1</td>\n",
              "      <td>1.5</td>\n",
              "    </tr>\n",
              "    <tr>\n",
              "      <th>4</th>\n",
              "      <td>5</td>\n",
              "      <td>5.0</td>\n",
              "      <td>3.6</td>\n",
              "      <td>1.4</td>\n",
              "    </tr>\n",
              "  </tbody>\n",
              "</table>\n",
              "</div>\n",
              "      <button class=\"colab-df-convert\" onclick=\"convertToInteractive('df-5b3bc18c-d082-4327-a30f-de506873904c')\"\n",
              "              title=\"Convert this dataframe to an interactive table.\"\n",
              "              style=\"display:none;\">\n",
              "        \n",
              "  <svg xmlns=\"http://www.w3.org/2000/svg\" height=\"24px\"viewBox=\"0 0 24 24\"\n",
              "       width=\"24px\">\n",
              "    <path d=\"M0 0h24v24H0V0z\" fill=\"none\"/>\n",
              "    <path d=\"M18.56 5.44l.94 2.06.94-2.06 2.06-.94-2.06-.94-.94-2.06-.94 2.06-2.06.94zm-11 1L8.5 8.5l.94-2.06 2.06-.94-2.06-.94L8.5 2.5l-.94 2.06-2.06.94zm10 10l.94 2.06.94-2.06 2.06-.94-2.06-.94-.94-2.06-.94 2.06-2.06.94z\"/><path d=\"M17.41 7.96l-1.37-1.37c-.4-.4-.92-.59-1.43-.59-.52 0-1.04.2-1.43.59L10.3 9.45l-7.72 7.72c-.78.78-.78 2.05 0 2.83L4 21.41c.39.39.9.59 1.41.59.51 0 1.02-.2 1.41-.59l7.78-7.78 2.81-2.81c.8-.78.8-2.07 0-2.86zM5.41 20L4 18.59l7.72-7.72 1.47 1.35L5.41 20z\"/>\n",
              "  </svg>\n",
              "      </button>\n",
              "      \n",
              "  <style>\n",
              "    .colab-df-container {\n",
              "      display:flex;\n",
              "      flex-wrap:wrap;\n",
              "      gap: 12px;\n",
              "    }\n",
              "\n",
              "    .colab-df-convert {\n",
              "      background-color: #E8F0FE;\n",
              "      border: none;\n",
              "      border-radius: 50%;\n",
              "      cursor: pointer;\n",
              "      display: none;\n",
              "      fill: #1967D2;\n",
              "      height: 32px;\n",
              "      padding: 0 0 0 0;\n",
              "      width: 32px;\n",
              "    }\n",
              "\n",
              "    .colab-df-convert:hover {\n",
              "      background-color: #E2EBFA;\n",
              "      box-shadow: 0px 1px 2px rgba(60, 64, 67, 0.3), 0px 1px 3px 1px rgba(60, 64, 67, 0.15);\n",
              "      fill: #174EA6;\n",
              "    }\n",
              "\n",
              "    [theme=dark] .colab-df-convert {\n",
              "      background-color: #3B4455;\n",
              "      fill: #D2E3FC;\n",
              "    }\n",
              "\n",
              "    [theme=dark] .colab-df-convert:hover {\n",
              "      background-color: #434B5C;\n",
              "      box-shadow: 0px 1px 3px 1px rgba(0, 0, 0, 0.15);\n",
              "      filter: drop-shadow(0px 1px 2px rgba(0, 0, 0, 0.3));\n",
              "      fill: #FFFFFF;\n",
              "    }\n",
              "  </style>\n",
              "\n",
              "      <script>\n",
              "        const buttonEl =\n",
              "          document.querySelector('#df-5b3bc18c-d082-4327-a30f-de506873904c button.colab-df-convert');\n",
              "        buttonEl.style.display =\n",
              "          google.colab.kernel.accessAllowed ? 'block' : 'none';\n",
              "\n",
              "        async function convertToInteractive(key) {\n",
              "          const element = document.querySelector('#df-5b3bc18c-d082-4327-a30f-de506873904c');\n",
              "          const dataTable =\n",
              "            await google.colab.kernel.invokeFunction('convertToInteractive',\n",
              "                                                     [key], {});\n",
              "          if (!dataTable) return;\n",
              "\n",
              "          const docLinkHtml = 'Like what you see? Visit the ' +\n",
              "            '<a target=\"_blank\" href=https://colab.research.google.com/notebooks/data_table.ipynb>data table notebook</a>'\n",
              "            + ' to learn more about interactive tables.';\n",
              "          element.innerHTML = '';\n",
              "          dataTable['output_type'] = 'display_data';\n",
              "          await google.colab.output.renderOutput(dataTable, element);\n",
              "          const docLink = document.createElement('div');\n",
              "          docLink.innerHTML = docLinkHtml;\n",
              "          element.appendChild(docLink);\n",
              "        }\n",
              "      </script>\n",
              "    </div>\n",
              "  </div>\n",
              "  "
            ]
          },
          "metadata": {},
          "execution_count": 11
        }
      ],
      "source": [
        "x = iris.iloc[:,:4]\n",
        "x.head()"
      ]
    },
    {
      "cell_type": "code",
      "execution_count": 12,
      "id": "98a381ff",
      "metadata": {
        "colab": {
          "base_uri": "https://localhost:8080/",
          "height": 0
        },
        "id": "98a381ff",
        "outputId": "0a7ba365-d7f8-45b9-ea4b-9af486339932"
      },
      "outputs": [
        {
          "output_type": "execute_result",
          "data": {
            "text/plain": [
              "0    Iris-setosa\n",
              "1    Iris-setosa\n",
              "2    Iris-setosa\n",
              "3    Iris-setosa\n",
              "4    Iris-setosa\n",
              "Name: Species, dtype: object"
            ]
          },
          "metadata": {},
          "execution_count": 12
        }
      ],
      "source": [
        "y = iris.iloc[:,-1]\n",
        "y.head()"
      ]
    },
    {
      "cell_type": "markdown",
      "id": "bb8c9932",
      "metadata": {
        "id": "bb8c9932"
      },
      "source": [
        "#### Data Normalization"
      ]
    },
    {
      "cell_type": "code",
      "execution_count": 13,
      "id": "823c1eea",
      "metadata": {
        "colab": {
          "base_uri": "https://localhost:8080/",
          "height": 0
        },
        "id": "823c1eea",
        "outputId": "dd2821f4-1198-4d04-d3fb-8e594d98cf89"
      },
      "outputs": [
        {
          "output_type": "execute_result",
          "data": {
            "text/plain": [
              "array([[-1.72054204, -0.90068117,  1.03205722, -1.3412724 ],\n",
              "       [-1.69744751, -1.14301691, -0.1249576 , -1.3412724 ],\n",
              "       [-1.67435299, -1.38535265,  0.33784833, -1.39813811],\n",
              "       [-1.65125846, -1.50652052,  0.10644536, -1.2844067 ]])"
            ]
          },
          "metadata": {},
          "execution_count": 13
        }
      ],
      "source": [
        "x = preprocessing.StandardScaler().fit_transform(x)\n",
        "x[0:4]"
      ]
    },
    {
      "cell_type": "markdown",
      "id": "ff2691ed",
      "metadata": {
        "id": "ff2691ed"
      },
      "source": [
        "#### Train_Test_Split"
      ]
    },
    {
      "cell_type": "code",
      "execution_count": 14,
      "id": "fa1558da",
      "metadata": {
        "colab": {
          "base_uri": "https://localhost:8080/",
          "height": 0
        },
        "id": "fa1558da",
        "outputId": "1522a7dd-822b-4372-ab1e-cd832459f300"
      },
      "outputs": [
        {
          "output_type": "execute_result",
          "data": {
            "text/plain": [
              "(45,)"
            ]
          },
          "metadata": {},
          "execution_count": 14
        }
      ],
      "source": [
        "from sklearn.model_selection import train_test_split\n",
        "x_train,x_test,y_train,y_test = train_test_split(x,y,test_size = 0.3,random_state = 1)\n",
        "y_test.shape"
      ]
    },
    {
      "cell_type": "markdown",
      "id": "802aab0d",
      "metadata": {
        "id": "802aab0d"
      },
      "source": [
        "#### Training And Predicting Data"
      ]
    },
    {
      "cell_type": "code",
      "execution_count": 15,
      "id": "99993a48",
      "metadata": {
        "id": "99993a48"
      },
      "outputs": [],
      "source": [
        "knnmodel = KNeighborsClassifier(n_neighbors = 3)"
      ]
    },
    {
      "cell_type": "code",
      "execution_count": 16,
      "id": "4761314e",
      "metadata": {
        "colab": {
          "base_uri": "https://localhost:8080/",
          "height": 75
        },
        "id": "4761314e",
        "outputId": "2aeac5aa-84f0-4180-f56f-77cf8f9d3ad1"
      },
      "outputs": [
        {
          "output_type": "execute_result",
          "data": {
            "text/plain": [
              "KNeighborsClassifier(n_neighbors=3)"
            ],
            "text/html": [
              "<style>#sk-container-id-1 {color: black;background-color: white;}#sk-container-id-1 pre{padding: 0;}#sk-container-id-1 div.sk-toggleable {background-color: white;}#sk-container-id-1 label.sk-toggleable__label {cursor: pointer;display: block;width: 100%;margin-bottom: 0;padding: 0.3em;box-sizing: border-box;text-align: center;}#sk-container-id-1 label.sk-toggleable__label-arrow:before {content: \"▸\";float: left;margin-right: 0.25em;color: #696969;}#sk-container-id-1 label.sk-toggleable__label-arrow:hover:before {color: black;}#sk-container-id-1 div.sk-estimator:hover label.sk-toggleable__label-arrow:before {color: black;}#sk-container-id-1 div.sk-toggleable__content {max-height: 0;max-width: 0;overflow: hidden;text-align: left;background-color: #f0f8ff;}#sk-container-id-1 div.sk-toggleable__content pre {margin: 0.2em;color: black;border-radius: 0.25em;background-color: #f0f8ff;}#sk-container-id-1 input.sk-toggleable__control:checked~div.sk-toggleable__content {max-height: 200px;max-width: 100%;overflow: auto;}#sk-container-id-1 input.sk-toggleable__control:checked~label.sk-toggleable__label-arrow:before {content: \"▾\";}#sk-container-id-1 div.sk-estimator input.sk-toggleable__control:checked~label.sk-toggleable__label {background-color: #d4ebff;}#sk-container-id-1 div.sk-label input.sk-toggleable__control:checked~label.sk-toggleable__label {background-color: #d4ebff;}#sk-container-id-1 input.sk-hidden--visually {border: 0;clip: rect(1px 1px 1px 1px);clip: rect(1px, 1px, 1px, 1px);height: 1px;margin: -1px;overflow: hidden;padding: 0;position: absolute;width: 1px;}#sk-container-id-1 div.sk-estimator {font-family: monospace;background-color: #f0f8ff;border: 1px dotted black;border-radius: 0.25em;box-sizing: border-box;margin-bottom: 0.5em;}#sk-container-id-1 div.sk-estimator:hover {background-color: #d4ebff;}#sk-container-id-1 div.sk-parallel-item::after {content: \"\";width: 100%;border-bottom: 1px solid gray;flex-grow: 1;}#sk-container-id-1 div.sk-label:hover label.sk-toggleable__label {background-color: #d4ebff;}#sk-container-id-1 div.sk-serial::before {content: \"\";position: absolute;border-left: 1px solid gray;box-sizing: border-box;top: 0;bottom: 0;left: 50%;z-index: 0;}#sk-container-id-1 div.sk-serial {display: flex;flex-direction: column;align-items: center;background-color: white;padding-right: 0.2em;padding-left: 0.2em;position: relative;}#sk-container-id-1 div.sk-item {position: relative;z-index: 1;}#sk-container-id-1 div.sk-parallel {display: flex;align-items: stretch;justify-content: center;background-color: white;position: relative;}#sk-container-id-1 div.sk-item::before, #sk-container-id-1 div.sk-parallel-item::before {content: \"\";position: absolute;border-left: 1px solid gray;box-sizing: border-box;top: 0;bottom: 0;left: 50%;z-index: -1;}#sk-container-id-1 div.sk-parallel-item {display: flex;flex-direction: column;z-index: 1;position: relative;background-color: white;}#sk-container-id-1 div.sk-parallel-item:first-child::after {align-self: flex-end;width: 50%;}#sk-container-id-1 div.sk-parallel-item:last-child::after {align-self: flex-start;width: 50%;}#sk-container-id-1 div.sk-parallel-item:only-child::after {width: 0;}#sk-container-id-1 div.sk-dashed-wrapped {border: 1px dashed gray;margin: 0 0.4em 0.5em 0.4em;box-sizing: border-box;padding-bottom: 0.4em;background-color: white;}#sk-container-id-1 div.sk-label label {font-family: monospace;font-weight: bold;display: inline-block;line-height: 1.2em;}#sk-container-id-1 div.sk-label-container {text-align: center;}#sk-container-id-1 div.sk-container {/* jupyter's `normalize.less` sets `[hidden] { display: none; }` but bootstrap.min.css set `[hidden] { display: none !important; }` so we also need the `!important` here to be able to override the default hidden behavior on the sphinx rendered scikit-learn.org. See: https://github.com/scikit-learn/scikit-learn/issues/21755 */display: inline-block !important;position: relative;}#sk-container-id-1 div.sk-text-repr-fallback {display: none;}</style><div id=\"sk-container-id-1\" class=\"sk-top-container\"><div class=\"sk-text-repr-fallback\"><pre>KNeighborsClassifier(n_neighbors=3)</pre><b>In a Jupyter environment, please rerun this cell to show the HTML representation or trust the notebook. <br />On GitHub, the HTML representation is unable to render, please try loading this page with nbviewer.org.</b></div><div class=\"sk-container\" hidden><div class=\"sk-item\"><div class=\"sk-estimator sk-toggleable\"><input class=\"sk-toggleable__control sk-hidden--visually\" id=\"sk-estimator-id-1\" type=\"checkbox\" checked><label for=\"sk-estimator-id-1\" class=\"sk-toggleable__label sk-toggleable__label-arrow\">KNeighborsClassifier</label><div class=\"sk-toggleable__content\"><pre>KNeighborsClassifier(n_neighbors=3)</pre></div></div></div></div></div>"
            ]
          },
          "metadata": {},
          "execution_count": 16
        }
      ],
      "source": [
        "knnmodel.fit(x_train,y_train)"
      ]
    },
    {
      "cell_type": "code",
      "execution_count": 17,
      "id": "2b06d315",
      "metadata": {
        "id": "2b06d315"
      },
      "outputs": [],
      "source": [
        "y_predict1 = knnmodel.predict(x_test)"
      ]
    },
    {
      "cell_type": "markdown",
      "id": "bc5747e4",
      "metadata": {
        "id": "bc5747e4"
      },
      "source": [
        "#### Data Accuracy"
      ]
    },
    {
      "cell_type": "code",
      "execution_count": 18,
      "id": "0bb640e7",
      "metadata": {
        "id": "0bb640e7"
      },
      "outputs": [],
      "source": [
        "from sklearn.metrics import accuracy_score"
      ]
    },
    {
      "cell_type": "code",
      "execution_count": 19,
      "id": "c385e6bf",
      "metadata": {
        "colab": {
          "base_uri": "https://localhost:8080/",
          "height": 0
        },
        "id": "c385e6bf",
        "outputId": "8504b60e-2d24-46f1-dc7d-0570cb844e32"
      },
      "outputs": [
        {
          "output_type": "execute_result",
          "data": {
            "text/plain": [
              "1.0"
            ]
          },
          "metadata": {},
          "execution_count": 19
        }
      ],
      "source": [
        "acc = accuracy_score(y_test,y_predict1)\n",
        "acc"
      ]
    },
    {
      "cell_type": "markdown",
      "id": "ad276843",
      "metadata": {
        "id": "ad276843"
      },
      "source": [
        "#### Confusion Matrix"
      ]
    },
    {
      "cell_type": "code",
      "execution_count": 20,
      "id": "37ebbab0",
      "metadata": {
        "colab": {
          "base_uri": "https://localhost:8080/",
          "height": 0
        },
        "id": "37ebbab0",
        "outputId": "33ceca69-aae3-4697-990e-f3a2806b4fe2"
      },
      "outputs": [
        {
          "output_type": "execute_result",
          "data": {
            "text/plain": [
              "array([[14,  0,  0],\n",
              "       [ 0, 18,  0],\n",
              "       [ 0,  0, 13]])"
            ]
          },
          "metadata": {},
          "execution_count": 20
        }
      ],
      "source": [
        "from sklearn.metrics import confusion_matrix\n",
        "cm = confusion_matrix(y_test.values,y_predict1)\n",
        "cm"
      ]
    },
    {
      "cell_type": "code",
      "execution_count": 21,
      "id": "78f4c37e",
      "metadata": {
        "colab": {
          "base_uri": "https://localhost:8080/",
          "height": 143
        },
        "id": "78f4c37e",
        "outputId": "e98cff57-0304-4b33-a8f7-c707fd1bca48"
      },
      "outputs": [
        {
          "output_type": "execute_result",
          "data": {
            "text/plain": [
              "           setosa  versicolr  virginca\n",
              "setosa         14          0         0\n",
              "vericolor       0         18         0\n",
              "virginca        0          0        13"
            ],
            "text/html": [
              "\n",
              "  <div id=\"df-76c10dd0-c279-4332-a95c-597908837565\">\n",
              "    <div class=\"colab-df-container\">\n",
              "      <div>\n",
              "<style scoped>\n",
              "    .dataframe tbody tr th:only-of-type {\n",
              "        vertical-align: middle;\n",
              "    }\n",
              "\n",
              "    .dataframe tbody tr th {\n",
              "        vertical-align: top;\n",
              "    }\n",
              "\n",
              "    .dataframe thead th {\n",
              "        text-align: right;\n",
              "    }\n",
              "</style>\n",
              "<table border=\"1\" class=\"dataframe\">\n",
              "  <thead>\n",
              "    <tr style=\"text-align: right;\">\n",
              "      <th></th>\n",
              "      <th>setosa</th>\n",
              "      <th>versicolr</th>\n",
              "      <th>virginca</th>\n",
              "    </tr>\n",
              "  </thead>\n",
              "  <tbody>\n",
              "    <tr>\n",
              "      <th>setosa</th>\n",
              "      <td>14</td>\n",
              "      <td>0</td>\n",
              "      <td>0</td>\n",
              "    </tr>\n",
              "    <tr>\n",
              "      <th>vericolor</th>\n",
              "      <td>0</td>\n",
              "      <td>18</td>\n",
              "      <td>0</td>\n",
              "    </tr>\n",
              "    <tr>\n",
              "      <th>virginca</th>\n",
              "      <td>0</td>\n",
              "      <td>0</td>\n",
              "      <td>13</td>\n",
              "    </tr>\n",
              "  </tbody>\n",
              "</table>\n",
              "</div>\n",
              "      <button class=\"colab-df-convert\" onclick=\"convertToInteractive('df-76c10dd0-c279-4332-a95c-597908837565')\"\n",
              "              title=\"Convert this dataframe to an interactive table.\"\n",
              "              style=\"display:none;\">\n",
              "        \n",
              "  <svg xmlns=\"http://www.w3.org/2000/svg\" height=\"24px\"viewBox=\"0 0 24 24\"\n",
              "       width=\"24px\">\n",
              "    <path d=\"M0 0h24v24H0V0z\" fill=\"none\"/>\n",
              "    <path d=\"M18.56 5.44l.94 2.06.94-2.06 2.06-.94-2.06-.94-.94-2.06-.94 2.06-2.06.94zm-11 1L8.5 8.5l.94-2.06 2.06-.94-2.06-.94L8.5 2.5l-.94 2.06-2.06.94zm10 10l.94 2.06.94-2.06 2.06-.94-2.06-.94-.94-2.06-.94 2.06-2.06.94z\"/><path d=\"M17.41 7.96l-1.37-1.37c-.4-.4-.92-.59-1.43-.59-.52 0-1.04.2-1.43.59L10.3 9.45l-7.72 7.72c-.78.78-.78 2.05 0 2.83L4 21.41c.39.39.9.59 1.41.59.51 0 1.02-.2 1.41-.59l7.78-7.78 2.81-2.81c.8-.78.8-2.07 0-2.86zM5.41 20L4 18.59l7.72-7.72 1.47 1.35L5.41 20z\"/>\n",
              "  </svg>\n",
              "      </button>\n",
              "      \n",
              "  <style>\n",
              "    .colab-df-container {\n",
              "      display:flex;\n",
              "      flex-wrap:wrap;\n",
              "      gap: 12px;\n",
              "    }\n",
              "\n",
              "    .colab-df-convert {\n",
              "      background-color: #E8F0FE;\n",
              "      border: none;\n",
              "      border-radius: 50%;\n",
              "      cursor: pointer;\n",
              "      display: none;\n",
              "      fill: #1967D2;\n",
              "      height: 32px;\n",
              "      padding: 0 0 0 0;\n",
              "      width: 32px;\n",
              "    }\n",
              "\n",
              "    .colab-df-convert:hover {\n",
              "      background-color: #E2EBFA;\n",
              "      box-shadow: 0px 1px 2px rgba(60, 64, 67, 0.3), 0px 1px 3px 1px rgba(60, 64, 67, 0.15);\n",
              "      fill: #174EA6;\n",
              "    }\n",
              "\n",
              "    [theme=dark] .colab-df-convert {\n",
              "      background-color: #3B4455;\n",
              "      fill: #D2E3FC;\n",
              "    }\n",
              "\n",
              "    [theme=dark] .colab-df-convert:hover {\n",
              "      background-color: #434B5C;\n",
              "      box-shadow: 0px 1px 3px 1px rgba(0, 0, 0, 0.15);\n",
              "      filter: drop-shadow(0px 1px 2px rgba(0, 0, 0, 0.3));\n",
              "      fill: #FFFFFF;\n",
              "    }\n",
              "  </style>\n",
              "\n",
              "      <script>\n",
              "        const buttonEl =\n",
              "          document.querySelector('#df-76c10dd0-c279-4332-a95c-597908837565 button.colab-df-convert');\n",
              "        buttonEl.style.display =\n",
              "          google.colab.kernel.accessAllowed ? 'block' : 'none';\n",
              "\n",
              "        async function convertToInteractive(key) {\n",
              "          const element = document.querySelector('#df-76c10dd0-c279-4332-a95c-597908837565');\n",
              "          const dataTable =\n",
              "            await google.colab.kernel.invokeFunction('convertToInteractive',\n",
              "                                                     [key], {});\n",
              "          if (!dataTable) return;\n",
              "\n",
              "          const docLinkHtml = 'Like what you see? Visit the ' +\n",
              "            '<a target=\"_blank\" href=https://colab.research.google.com/notebooks/data_table.ipynb>data table notebook</a>'\n",
              "            + ' to learn more about interactive tables.';\n",
              "          element.innerHTML = '';\n",
              "          dataTable['output_type'] = 'display_data';\n",
              "          await google.colab.output.renderOutput(dataTable, element);\n",
              "          const docLink = document.createElement('div');\n",
              "          docLink.innerHTML = docLinkHtml;\n",
              "          element.appendChild(docLink);\n",
              "        }\n",
              "      </script>\n",
              "    </div>\n",
              "  </div>\n",
              "  "
            ]
          },
          "metadata": {},
          "execution_count": 21
        }
      ],
      "source": [
        "cm1 = pd.DataFrame(data = cm, index =['setosa','vericolor','virginca'], columns = ['setosa','versicolr','virginca'] )\n",
        "cm1"
      ]
    },
    {
      "cell_type": "markdown",
      "id": "1bf53ed8",
      "metadata": {
        "id": "1bf53ed8"
      },
      "source": [
        "#### Output Visualization"
      ]
    },
    {
      "cell_type": "code",
      "execution_count": 22,
      "id": "494a3625",
      "metadata": {
        "colab": {
          "base_uri": "https://localhost:8080/",
          "height": 1460
        },
        "id": "494a3625",
        "outputId": "85359f79-c1db-436e-ef3b-ffb6d213ffcc"
      },
      "outputs": [
        {
          "output_type": "execute_result",
          "data": {
            "text/plain": [
              "             y_test       Y-predict1\n",
              "0       Iris-setosa      Iris-setosa\n",
              "1   Iris-versicolor  Iris-versicolor\n",
              "2   Iris-versicolor  Iris-versicolor\n",
              "3       Iris-setosa      Iris-setosa\n",
              "4    Iris-virginica   Iris-virginica\n",
              "5   Iris-versicolor  Iris-versicolor\n",
              "6    Iris-virginica   Iris-virginica\n",
              "7       Iris-setosa      Iris-setosa\n",
              "8       Iris-setosa      Iris-setosa\n",
              "9    Iris-virginica   Iris-virginica\n",
              "10  Iris-versicolor  Iris-versicolor\n",
              "11      Iris-setosa      Iris-setosa\n",
              "12   Iris-virginica   Iris-virginica\n",
              "13  Iris-versicolor  Iris-versicolor\n",
              "14  Iris-versicolor  Iris-versicolor\n",
              "15      Iris-setosa      Iris-setosa\n",
              "16  Iris-versicolor  Iris-versicolor\n",
              "17  Iris-versicolor  Iris-versicolor\n",
              "18      Iris-setosa      Iris-setosa\n",
              "19      Iris-setosa      Iris-setosa\n",
              "20  Iris-versicolor  Iris-versicolor\n",
              "21  Iris-versicolor  Iris-versicolor\n",
              "22  Iris-versicolor  Iris-versicolor\n",
              "23      Iris-setosa      Iris-setosa\n",
              "24   Iris-virginica   Iris-virginica\n",
              "25  Iris-versicolor  Iris-versicolor\n",
              "26      Iris-setosa      Iris-setosa\n",
              "27      Iris-setosa      Iris-setosa\n",
              "28  Iris-versicolor  Iris-versicolor\n",
              "29   Iris-virginica   Iris-virginica\n",
              "30  Iris-versicolor  Iris-versicolor\n",
              "31   Iris-virginica   Iris-virginica\n",
              "32  Iris-versicolor  Iris-versicolor\n",
              "33   Iris-virginica   Iris-virginica\n",
              "34   Iris-virginica   Iris-virginica\n",
              "35      Iris-setosa      Iris-setosa\n",
              "36  Iris-versicolor  Iris-versicolor\n",
              "37      Iris-setosa      Iris-setosa\n",
              "38  Iris-versicolor  Iris-versicolor\n",
              "39   Iris-virginica   Iris-virginica\n",
              "40   Iris-virginica   Iris-virginica\n",
              "41      Iris-setosa      Iris-setosa\n",
              "42   Iris-virginica   Iris-virginica\n",
              "43   Iris-virginica   Iris-virginica\n",
              "44  Iris-versicolor  Iris-versicolor"
            ],
            "text/html": [
              "\n",
              "  <div id=\"df-1f8c1699-3536-4432-9b52-5bcba951853e\">\n",
              "    <div class=\"colab-df-container\">\n",
              "      <div>\n",
              "<style scoped>\n",
              "    .dataframe tbody tr th:only-of-type {\n",
              "        vertical-align: middle;\n",
              "    }\n",
              "\n",
              "    .dataframe tbody tr th {\n",
              "        vertical-align: top;\n",
              "    }\n",
              "\n",
              "    .dataframe thead th {\n",
              "        text-align: right;\n",
              "    }\n",
              "</style>\n",
              "<table border=\"1\" class=\"dataframe\">\n",
              "  <thead>\n",
              "    <tr style=\"text-align: right;\">\n",
              "      <th></th>\n",
              "      <th>y_test</th>\n",
              "      <th>Y-predict1</th>\n",
              "    </tr>\n",
              "  </thead>\n",
              "  <tbody>\n",
              "    <tr>\n",
              "      <th>0</th>\n",
              "      <td>Iris-setosa</td>\n",
              "      <td>Iris-setosa</td>\n",
              "    </tr>\n",
              "    <tr>\n",
              "      <th>1</th>\n",
              "      <td>Iris-versicolor</td>\n",
              "      <td>Iris-versicolor</td>\n",
              "    </tr>\n",
              "    <tr>\n",
              "      <th>2</th>\n",
              "      <td>Iris-versicolor</td>\n",
              "      <td>Iris-versicolor</td>\n",
              "    </tr>\n",
              "    <tr>\n",
              "      <th>3</th>\n",
              "      <td>Iris-setosa</td>\n",
              "      <td>Iris-setosa</td>\n",
              "    </tr>\n",
              "    <tr>\n",
              "      <th>4</th>\n",
              "      <td>Iris-virginica</td>\n",
              "      <td>Iris-virginica</td>\n",
              "    </tr>\n",
              "    <tr>\n",
              "      <th>5</th>\n",
              "      <td>Iris-versicolor</td>\n",
              "      <td>Iris-versicolor</td>\n",
              "    </tr>\n",
              "    <tr>\n",
              "      <th>6</th>\n",
              "      <td>Iris-virginica</td>\n",
              "      <td>Iris-virginica</td>\n",
              "    </tr>\n",
              "    <tr>\n",
              "      <th>7</th>\n",
              "      <td>Iris-setosa</td>\n",
              "      <td>Iris-setosa</td>\n",
              "    </tr>\n",
              "    <tr>\n",
              "      <th>8</th>\n",
              "      <td>Iris-setosa</td>\n",
              "      <td>Iris-setosa</td>\n",
              "    </tr>\n",
              "    <tr>\n",
              "      <th>9</th>\n",
              "      <td>Iris-virginica</td>\n",
              "      <td>Iris-virginica</td>\n",
              "    </tr>\n",
              "    <tr>\n",
              "      <th>10</th>\n",
              "      <td>Iris-versicolor</td>\n",
              "      <td>Iris-versicolor</td>\n",
              "    </tr>\n",
              "    <tr>\n",
              "      <th>11</th>\n",
              "      <td>Iris-setosa</td>\n",
              "      <td>Iris-setosa</td>\n",
              "    </tr>\n",
              "    <tr>\n",
              "      <th>12</th>\n",
              "      <td>Iris-virginica</td>\n",
              "      <td>Iris-virginica</td>\n",
              "    </tr>\n",
              "    <tr>\n",
              "      <th>13</th>\n",
              "      <td>Iris-versicolor</td>\n",
              "      <td>Iris-versicolor</td>\n",
              "    </tr>\n",
              "    <tr>\n",
              "      <th>14</th>\n",
              "      <td>Iris-versicolor</td>\n",
              "      <td>Iris-versicolor</td>\n",
              "    </tr>\n",
              "    <tr>\n",
              "      <th>15</th>\n",
              "      <td>Iris-setosa</td>\n",
              "      <td>Iris-setosa</td>\n",
              "    </tr>\n",
              "    <tr>\n",
              "      <th>16</th>\n",
              "      <td>Iris-versicolor</td>\n",
              "      <td>Iris-versicolor</td>\n",
              "    </tr>\n",
              "    <tr>\n",
              "      <th>17</th>\n",
              "      <td>Iris-versicolor</td>\n",
              "      <td>Iris-versicolor</td>\n",
              "    </tr>\n",
              "    <tr>\n",
              "      <th>18</th>\n",
              "      <td>Iris-setosa</td>\n",
              "      <td>Iris-setosa</td>\n",
              "    </tr>\n",
              "    <tr>\n",
              "      <th>19</th>\n",
              "      <td>Iris-setosa</td>\n",
              "      <td>Iris-setosa</td>\n",
              "    </tr>\n",
              "    <tr>\n",
              "      <th>20</th>\n",
              "      <td>Iris-versicolor</td>\n",
              "      <td>Iris-versicolor</td>\n",
              "    </tr>\n",
              "    <tr>\n",
              "      <th>21</th>\n",
              "      <td>Iris-versicolor</td>\n",
              "      <td>Iris-versicolor</td>\n",
              "    </tr>\n",
              "    <tr>\n",
              "      <th>22</th>\n",
              "      <td>Iris-versicolor</td>\n",
              "      <td>Iris-versicolor</td>\n",
              "    </tr>\n",
              "    <tr>\n",
              "      <th>23</th>\n",
              "      <td>Iris-setosa</td>\n",
              "      <td>Iris-setosa</td>\n",
              "    </tr>\n",
              "    <tr>\n",
              "      <th>24</th>\n",
              "      <td>Iris-virginica</td>\n",
              "      <td>Iris-virginica</td>\n",
              "    </tr>\n",
              "    <tr>\n",
              "      <th>25</th>\n",
              "      <td>Iris-versicolor</td>\n",
              "      <td>Iris-versicolor</td>\n",
              "    </tr>\n",
              "    <tr>\n",
              "      <th>26</th>\n",
              "      <td>Iris-setosa</td>\n",
              "      <td>Iris-setosa</td>\n",
              "    </tr>\n",
              "    <tr>\n",
              "      <th>27</th>\n",
              "      <td>Iris-setosa</td>\n",
              "      <td>Iris-setosa</td>\n",
              "    </tr>\n",
              "    <tr>\n",
              "      <th>28</th>\n",
              "      <td>Iris-versicolor</td>\n",
              "      <td>Iris-versicolor</td>\n",
              "    </tr>\n",
              "    <tr>\n",
              "      <th>29</th>\n",
              "      <td>Iris-virginica</td>\n",
              "      <td>Iris-virginica</td>\n",
              "    </tr>\n",
              "    <tr>\n",
              "      <th>30</th>\n",
              "      <td>Iris-versicolor</td>\n",
              "      <td>Iris-versicolor</td>\n",
              "    </tr>\n",
              "    <tr>\n",
              "      <th>31</th>\n",
              "      <td>Iris-virginica</td>\n",
              "      <td>Iris-virginica</td>\n",
              "    </tr>\n",
              "    <tr>\n",
              "      <th>32</th>\n",
              "      <td>Iris-versicolor</td>\n",
              "      <td>Iris-versicolor</td>\n",
              "    </tr>\n",
              "    <tr>\n",
              "      <th>33</th>\n",
              "      <td>Iris-virginica</td>\n",
              "      <td>Iris-virginica</td>\n",
              "    </tr>\n",
              "    <tr>\n",
              "      <th>34</th>\n",
              "      <td>Iris-virginica</td>\n",
              "      <td>Iris-virginica</td>\n",
              "    </tr>\n",
              "    <tr>\n",
              "      <th>35</th>\n",
              "      <td>Iris-setosa</td>\n",
              "      <td>Iris-setosa</td>\n",
              "    </tr>\n",
              "    <tr>\n",
              "      <th>36</th>\n",
              "      <td>Iris-versicolor</td>\n",
              "      <td>Iris-versicolor</td>\n",
              "    </tr>\n",
              "    <tr>\n",
              "      <th>37</th>\n",
              "      <td>Iris-setosa</td>\n",
              "      <td>Iris-setosa</td>\n",
              "    </tr>\n",
              "    <tr>\n",
              "      <th>38</th>\n",
              "      <td>Iris-versicolor</td>\n",
              "      <td>Iris-versicolor</td>\n",
              "    </tr>\n",
              "    <tr>\n",
              "      <th>39</th>\n",
              "      <td>Iris-virginica</td>\n",
              "      <td>Iris-virginica</td>\n",
              "    </tr>\n",
              "    <tr>\n",
              "      <th>40</th>\n",
              "      <td>Iris-virginica</td>\n",
              "      <td>Iris-virginica</td>\n",
              "    </tr>\n",
              "    <tr>\n",
              "      <th>41</th>\n",
              "      <td>Iris-setosa</td>\n",
              "      <td>Iris-setosa</td>\n",
              "    </tr>\n",
              "    <tr>\n",
              "      <th>42</th>\n",
              "      <td>Iris-virginica</td>\n",
              "      <td>Iris-virginica</td>\n",
              "    </tr>\n",
              "    <tr>\n",
              "      <th>43</th>\n",
              "      <td>Iris-virginica</td>\n",
              "      <td>Iris-virginica</td>\n",
              "    </tr>\n",
              "    <tr>\n",
              "      <th>44</th>\n",
              "      <td>Iris-versicolor</td>\n",
              "      <td>Iris-versicolor</td>\n",
              "    </tr>\n",
              "  </tbody>\n",
              "</table>\n",
              "</div>\n",
              "      <button class=\"colab-df-convert\" onclick=\"convertToInteractive('df-1f8c1699-3536-4432-9b52-5bcba951853e')\"\n",
              "              title=\"Convert this dataframe to an interactive table.\"\n",
              "              style=\"display:none;\">\n",
              "        \n",
              "  <svg xmlns=\"http://www.w3.org/2000/svg\" height=\"24px\"viewBox=\"0 0 24 24\"\n",
              "       width=\"24px\">\n",
              "    <path d=\"M0 0h24v24H0V0z\" fill=\"none\"/>\n",
              "    <path d=\"M18.56 5.44l.94 2.06.94-2.06 2.06-.94-2.06-.94-.94-2.06-.94 2.06-2.06.94zm-11 1L8.5 8.5l.94-2.06 2.06-.94-2.06-.94L8.5 2.5l-.94 2.06-2.06.94zm10 10l.94 2.06.94-2.06 2.06-.94-2.06-.94-.94-2.06-.94 2.06-2.06.94z\"/><path d=\"M17.41 7.96l-1.37-1.37c-.4-.4-.92-.59-1.43-.59-.52 0-1.04.2-1.43.59L10.3 9.45l-7.72 7.72c-.78.78-.78 2.05 0 2.83L4 21.41c.39.39.9.59 1.41.59.51 0 1.02-.2 1.41-.59l7.78-7.78 2.81-2.81c.8-.78.8-2.07 0-2.86zM5.41 20L4 18.59l7.72-7.72 1.47 1.35L5.41 20z\"/>\n",
              "  </svg>\n",
              "      </button>\n",
              "      \n",
              "  <style>\n",
              "    .colab-df-container {\n",
              "      display:flex;\n",
              "      flex-wrap:wrap;\n",
              "      gap: 12px;\n",
              "    }\n",
              "\n",
              "    .colab-df-convert {\n",
              "      background-color: #E8F0FE;\n",
              "      border: none;\n",
              "      border-radius: 50%;\n",
              "      cursor: pointer;\n",
              "      display: none;\n",
              "      fill: #1967D2;\n",
              "      height: 32px;\n",
              "      padding: 0 0 0 0;\n",
              "      width: 32px;\n",
              "    }\n",
              "\n",
              "    .colab-df-convert:hover {\n",
              "      background-color: #E2EBFA;\n",
              "      box-shadow: 0px 1px 2px rgba(60, 64, 67, 0.3), 0px 1px 3px 1px rgba(60, 64, 67, 0.15);\n",
              "      fill: #174EA6;\n",
              "    }\n",
              "\n",
              "    [theme=dark] .colab-df-convert {\n",
              "      background-color: #3B4455;\n",
              "      fill: #D2E3FC;\n",
              "    }\n",
              "\n",
              "    [theme=dark] .colab-df-convert:hover {\n",
              "      background-color: #434B5C;\n",
              "      box-shadow: 0px 1px 3px 1px rgba(0, 0, 0, 0.15);\n",
              "      filter: drop-shadow(0px 1px 2px rgba(0, 0, 0, 0.3));\n",
              "      fill: #FFFFFF;\n",
              "    }\n",
              "  </style>\n",
              "\n",
              "      <script>\n",
              "        const buttonEl =\n",
              "          document.querySelector('#df-1f8c1699-3536-4432-9b52-5bcba951853e button.colab-df-convert');\n",
              "        buttonEl.style.display =\n",
              "          google.colab.kernel.accessAllowed ? 'block' : 'none';\n",
              "\n",
              "        async function convertToInteractive(key) {\n",
              "          const element = document.querySelector('#df-1f8c1699-3536-4432-9b52-5bcba951853e');\n",
              "          const dataTable =\n",
              "            await google.colab.kernel.invokeFunction('convertToInteractive',\n",
              "                                                     [key], {});\n",
              "          if (!dataTable) return;\n",
              "\n",
              "          const docLinkHtml = 'Like what you see? Visit the ' +\n",
              "            '<a target=\"_blank\" href=https://colab.research.google.com/notebooks/data_table.ipynb>data table notebook</a>'\n",
              "            + ' to learn more about interactive tables.';\n",
              "          element.innerHTML = '';\n",
              "          dataTable['output_type'] = 'display_data';\n",
              "          await google.colab.output.renderOutput(dataTable, element);\n",
              "          const docLink = document.createElement('div');\n",
              "          docLink.innerHTML = docLinkHtml;\n",
              "          element.appendChild(docLink);\n",
              "        }\n",
              "      </script>\n",
              "    </div>\n",
              "  </div>\n",
              "  "
            ]
          },
          "metadata": {},
          "execution_count": 22
        }
      ],
      "source": [
        "prediction_output = pd.DataFrame(data = [y_test.values,y_predict1],index = ['y_test','Y-predict1'])\n",
        "prediction_output.transpose()"
      ]
    },
    {
      "cell_type": "code",
      "execution_count": 23,
      "id": "7ddba523",
      "metadata": {
        "colab": {
          "base_uri": "https://localhost:8080/",
          "height": 0
        },
        "id": "7ddba523",
        "outputId": "e71c2040-f3d2-4726-a43e-e52012c6e008"
      },
      "outputs": [
        {
          "output_type": "execute_result",
          "data": {
            "text/plain": [
              "Iris-versicolor    18\n",
              "Iris-setosa        14\n",
              "Iris-virginica     13\n",
              "Name: y_test, dtype: int64"
            ]
          },
          "metadata": {},
          "execution_count": 23
        }
      ],
      "source": [
        "prediction_output.iloc[0,:].value_counts()"
      ]
    },
    {
      "cell_type": "markdown",
      "id": "bd99e08c",
      "metadata": {
        "id": "bd99e08c"
      },
      "source": [
        "#### Finding the Value of K"
      ]
    },
    {
      "cell_type": "code",
      "execution_count": 24,
      "id": "336d3454",
      "metadata": {
        "id": "336d3454"
      },
      "outputs": [],
      "source": [
        "ks = 50\n",
        "mean_acc = np.zeros((ks-1))\n",
        "\n",
        "#train and predict\n",
        "for n in range(1,ks):\n",
        "    neigh = KNeighborsClassifier(n_neighbors = n).fit(x_train,y_train)\n",
        "    yhat = neigh.predict(x_test)\n",
        "    mean_acc[n-1] = accuracy_score(y_test,yhat)"
      ]
    },
    {
      "cell_type": "code",
      "execution_count": 25,
      "id": "d2feb657",
      "metadata": {
        "colab": {
          "base_uri": "https://localhost:8080/",
          "height": 0
        },
        "id": "d2feb657",
        "outputId": "01b40773-d460-4f86-bc71-9413e60c26a6"
      },
      "outputs": [
        {
          "output_type": "stream",
          "name": "stdout",
          "text": [
            "[1.         0.97777778 1.         1.         1.         1.\n",
            " 1.         1.         1.         1.         1.         0.97777778\n",
            " 1.         0.97777778 0.97777778 0.97777778 1.         1.\n",
            " 1.         1.         1.         0.97777778 0.97777778 0.97777778\n",
            " 0.97777778 0.97777778 0.97777778 0.97777778 0.97777778 0.97777778\n",
            " 0.97777778 0.97777778 0.97777778 0.97777778 0.97777778 0.97777778\n",
            " 0.97777778 0.97777778 0.97777778 0.97777778 0.97777778 0.97777778\n",
            " 0.95555556 0.95555556 0.93333333 0.93333333 0.93333333 0.93333333\n",
            " 0.88888889]\n"
          ]
        }
      ],
      "source": [
        "print(mean_acc)"
      ]
    },
    {
      "cell_type": "code",
      "execution_count": 26,
      "id": "61ecc874",
      "metadata": {
        "colab": {
          "base_uri": "https://localhost:8080/",
          "height": 0
        },
        "id": "61ecc874",
        "outputId": "e0ca9c16-d987-4b2e-d6b2-b564a6dd08aa"
      },
      "outputs": [
        {
          "output_type": "stream",
          "name": "stdout",
          "text": [
            "The best Accuracy was with 1.0 with k = 1\n"
          ]
        }
      ],
      "source": [
        "print('The best Accuracy was with',mean_acc.max(),'with k =',mean_acc.argmax()+1)"
      ]
    },
    {
      "cell_type": "code",
      "execution_count": 27,
      "id": "ac57f6e6",
      "metadata": {
        "colab": {
          "base_uri": "https://localhost:8080/",
          "height": 487
        },
        "id": "ac57f6e6",
        "outputId": "81c2be20-58fc-46ba-ca7f-8178a0aeef51"
      },
      "outputs": [
        {
          "output_type": "display_data",
          "data": {
            "text/plain": [
              "<Figure size 640x480 with 1 Axes>"
            ],
            "image/png": "[encoded data removed]"
          },
          "metadata": {}
        }
      ],
      "source": [
        "plt.plot(range(1,ks),mean_acc,'g')\n",
        "plt.legend('Accuracy ')\n",
        "plt.ylabel('Accuracy')\n",
        "plt.xlabel('Number of Neighbours (k)')\n",
        "plt.tight_layout()\n",
        "plt.show()"
      ]
    }
  ],
  "metadata": {
    "colab": {
      "provenance": []
    },
    "kernelspec": {
      "display_name": "Python 3 (ipykernel)",
      "language": "python",
      "name": "python3"
    },
    "language_info": {
      "codemirror_mode": {
        "name": "ipython",
        "version": 3
      },
      "file_extension": ".py",
      "mimetype": "text/x-python",
      "name": "python",
      "nbconvert_exporter": "python",
      "pygments_lexer": "ipython3",
      "version": "3.9.13"
    }
  },
  "nbformat": 4,
  "nbformat_minor": 5
}